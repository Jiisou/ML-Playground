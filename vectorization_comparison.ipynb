{
  "cells": [
    {
      "cell_type": "markdown",
      "metadata": {
        "id": "O86tnmAw6aS3"
      },
      "source": [
        "I'd like to compare the efficiency of vectorization implementation in practice.\n",
        "\n",
        "*(inspired by following slides...)*"
      ]
    },
    {
      "cell_type": "markdown",
      "metadata": {},
      "source": [
        "<img src=\"https://ifh.cc/g/tr2fyq.jpg\">"
      ]
    },
    {
      "cell_type": "markdown",
      "metadata": {
        "id": "VxF8Lr0hG9Up"
      },
      "source": [
        "0. weight 및 input은 numpy library의 난수 생성 모듈을 활용함: https://numpy.org/doc/2.1/reference/random/generated/numpy.random.rand.html"
      ]
    },
    {
      "cell_type": "code",
      "execution_count": 23,
      "metadata": {
        "id": "xl495Pg-GYWG"
      },
      "outputs": [],
      "source": [
        "import numpy as np"
      ]
    },
    {
      "cell_type": "code",
      "execution_count": 24,
      "metadata": {
        "colab": {
          "base_uri": "https://localhost:8080/"
        },
        "id": "zKECTA5OGtCJ",
        "outputId": "9ca802aa-18e9-4b30-8b5e-cd781695c2b6"
      },
      "outputs": [
        {
          "data": {
            "text/plain": [
              "array([0.87564442, 0.34859914, 0.50793036, 0.74550979])"
            ]
          },
          "execution_count": 24,
          "metadata": {},
          "output_type": "execute_result"
        }
      ],
      "source": [
        "# weight = [np.random.rand() for _ in range(4)]\n",
        "weight = np.random.rand(4)\n",
        "weight"
      ]
    },
    {
      "cell_type": "code",
      "execution_count": 25,
      "metadata": {
        "colab": {
          "base_uri": "https://localhost:8080/"
        },
        "id": "o2CQvaZGHJ6Y",
        "outputId": "124f3d8e-9f1a-465f-dff5-c18439f13206"
      },
      "outputs": [
        {
          "data": {
            "text/plain": [
              "array([0.11948636, 0.2314196 , 0.55878437, 0.93252264])"
            ]
          },
          "execution_count": 25,
          "metadata": {},
          "output_type": "execute_result"
        }
      ],
      "source": [
        "input  = np.random.rand(4)\n",
        "input"
      ]
    },
    {
      "cell_type": "markdown",
      "metadata": {
        "id": "Ysu58D_e6rzt"
      },
      "source": [
        "`np.random.rand()`"
      ]
    },
    {
      "cell_type": "markdown",
      "metadata": {
        "id": "nnN_1Ty4HYH4"
      },
      "source": [
        "1. totally manual code."
      ]
    },
    {
      "cell_type": "code",
      "execution_count": 26,
      "metadata": {
        "colab": {
          "base_uri": "https://localhost:8080/"
        },
        "id": "IRn5vA3HHRSe",
        "outputId": "c982666e-af1f-4811-c178-fef8f2fcae31"
      },
      "outputs": [
        {
          "data": {
            "text/plain": [
              "np.float64(1.1643285416291145)"
            ]
          },
          "execution_count": 26,
          "metadata": {},
          "output_type": "execute_result"
        }
      ],
      "source": [
        "result_1 = weight[0] * input[0] + weight[1] * input[1] + weight[2] * input[2] + weight[3] * input[3]\n",
        "result_1"
      ]
    },
    {
      "cell_type": "markdown",
      "metadata": {
        "id": "TLBDMGlKH12_"
      },
      "source": [
        "2. using for-loop"
      ]
    },
    {
      "cell_type": "code",
      "execution_count": 27,
      "metadata": {
        "colab": {
          "base_uri": "https://localhost:8080/"
        },
        "id": "1uzxHeVgH1cT",
        "outputId": "abcdb239-c164-42cb-8bdf-abb016ff0cf6"
      },
      "outputs": [
        {
          "data": {
            "text/plain": [
              "np.float64(1.1643285416291145)"
            ]
          },
          "execution_count": 27,
          "metadata": {},
          "output_type": "execute_result"
        }
      ],
      "source": [
        "result_2 = 0\n",
        "\n",
        "for i in range(len(weight)):\n",
        "  result_2 += weight[i] * input[i]\n",
        "\n",
        "result_2"
      ]
    },
    {
      "cell_type": "markdown",
      "metadata": {
        "id": "vCltFvc9INe9"
      },
      "source": [
        "3. using vector"
      ]
    },
    {
      "cell_type": "code",
      "execution_count": 28,
      "metadata": {
        "colab": {
          "base_uri": "https://localhost:8080/"
        },
        "id": "R6d7G3ttIJiX",
        "outputId": "b7eba02a-4a9b-4106-a17d-de4b78a5a7b4"
      },
      "outputs": [
        {
          "data": {
            "text/plain": [
              "np.float64(1.1643285416291145)"
            ]
          },
          "execution_count": 28,
          "metadata": {},
          "output_type": "execute_result"
        }
      ],
      "source": [
        "result_3 = np.matmul(weight, input)\n",
        "result_3"
      ]
    },
    {
      "cell_type": "markdown",
      "metadata": {
        "id": "eZzsQp8f4rUQ"
      },
      "source": [
        "- weighted-sum 결과 비교"
      ]
    },
    {
      "cell_type": "code",
      "execution_count": null,
      "metadata": {},
      "outputs": [
        {
          "data": {
            "text/plain": [
              "np.True_"
            ]
          },
          "execution_count": 31,
          "metadata": {},
          "output_type": "execute_result"
        }
      ],
      "source": [
        "result_1 == result_2  # <class 'numpy.bool_'>"
      ]
    },
    {
      "cell_type": "code",
      "execution_count": 29,
      "metadata": {
        "colab": {
          "base_uri": "https://localhost:8080/"
        },
        "id": "STvqGBsQ1fra",
        "outputId": "06e75471-28ef-41d3-856d-bfa2b4a5904b"
      },
      "outputs": [
        {
          "data": {
            "text/plain": [
              "np.True_"
            ]
          },
          "execution_count": 29,
          "metadata": {},
          "output_type": "execute_result"
        }
      ],
      "source": [
        "(result_1 == result_2) and (result_2 == result_3)"
      ]
    },
    {
      "cell_type": "code",
      "execution_count": 12,
      "metadata": {
        "colab": {
          "base_uri": "https://localhost:8080/"
        },
        "id": "LDD3cRBV2HVL",
        "outputId": "e3032884-c86c-4ef4-a3e9-0dc34162f0ec"
      },
      "outputs": [
        {
          "data": {
            "text/plain": [
              "np.True_"
            ]
          },
          "execution_count": 12,
          "metadata": {},
          "output_type": "execute_result"
        }
      ],
      "source": [
        "result_2 == result_3"
      ]
    },
    {
      "cell_type": "code",
      "execution_count": 32,
      "metadata": {
        "colab": {
          "base_uri": "https://localhost:8080/"
        },
        "id": "5v4wE_k92Io2",
        "outputId": "05cc35fb-2615-4ee9-b4a6-9b6c19e0ee90"
      },
      "outputs": [
        {
          "data": {
            "text/plain": [
              "numpy.float64"
            ]
          },
          "execution_count": 32,
          "metadata": {},
          "output_type": "execute_result"
        }
      ],
      "source": [
        "type(result_3)"
      ]
    },
    {
      "cell_type": "markdown",
      "metadata": {
        "id": "yLoO3SD94z_y"
      },
      "source": [
        "- experiment : `n = 100,000,000`"
      ]
    },
    {
      "cell_type": "markdown",
      "metadata": {
        "id": "d3ihbUKA5Jg_"
      },
      "source": [
        "1. totally manual implementation"
      ]
    },
    {
      "cell_type": "code",
      "execution_count": 34,
      "metadata": {
        "colab": {
          "base_uri": "https://localhost:8080/"
        },
        "id": "ltmABmNm4fWC",
        "outputId": "aaf6711a-2b2a-44bd-9efc-d35380b8d07a"
      },
      "outputs": [
        {
          "data": {
            "text/plain": [
              "100000000"
            ]
          },
          "execution_count": 34,
          "metadata": {},
          "output_type": "execute_result"
        }
      ],
      "source": [
        "n = 100000000 # 100 M\n",
        "# w = [np.random.rand() for _ in range(n)]\n",
        "# x = [np.random.rand() for _ in range(n)]\n",
        "w = np.random.rand(n)\n",
        "x = np.random.rand(n)\n",
        "\n",
        "len(w)"
      ]
    },
    {
      "cell_type": "code",
      "execution_count": 35,
      "metadata": {
        "colab": {
          "base_uri": "https://localhost:8080/"
        },
        "id": "orC_DuKH5wXe",
        "outputId": "96ddcc2e-1734-45f0-adbf-589f6d135dec"
      },
      "outputs": [
        {
          "data": {
            "text/plain": [
              "np.float64(25002968.202735566)"
            ]
          },
          "execution_count": 35,
          "metadata": {},
          "output_type": "execute_result"
        }
      ],
      "source": [
        "result_01 = 0\n",
        "\n",
        "for i in range(len(w)):\n",
        "  result_01 += w[i] * x[i]\n",
        "\n",
        "result_01"
      ]
    },
    {
      "cell_type": "code",
      "execution_count": 36,
      "metadata": {
        "colab": {
          "base_uri": "https://localhost:8080/"
        },
        "id": "86JjhCIo5j7n",
        "outputId": "16999de5-b164-4e04-d2c1-37308c72b849"
      },
      "outputs": [
        {
          "data": {
            "text/plain": [
              "np.float64(25002968.202728584)"
            ]
          },
          "execution_count": 36,
          "metadata": {},
          "output_type": "execute_result"
        }
      ],
      "source": [
        "result_02 = np.matmul(w, x)\n",
        "\n",
        "result_02"
      ]
    },
    {
      "cell_type": "markdown",
      "metadata": {
        "id": "2E7nR0D17bm-"
      },
      "source": [
        "- 결과 비교!!\n",
        "\n",
        "\n",
        "    *   난수 생성에 0.6초\n",
        "    *   순차적 연산에 14초\n",
        "    *   병렬적 연산에 0.0n초 남짓 소요됨을 확인 !!\n",
        "\n"
      ]
    },
    {
      "cell_type": "code",
      "execution_count": 37,
      "metadata": {
        "id": "cSPyWxbU5zOA"
      },
      "outputs": [
        {
          "data": {
            "text/plain": [
              "np.False_"
            ]
          },
          "execution_count": 37,
          "metadata": {},
          "output_type": "execute_result"
        }
      ],
      "source": [
        "result_01 == result_02  "
      ]
    },
    {
      "cell_type": "code",
      "execution_count": 38,
      "metadata": {},
      "outputs": [
        {
          "data": {
            "text/plain": [
              "True"
            ]
          },
          "execution_count": 38,
          "metadata": {},
          "output_type": "execute_result"
        }
      ],
      "source": [
        "int(result_01) == int(result_02)"
      ]
    },
    {
      "cell_type": "markdown",
      "metadata": {},
      "source": [
        "- 소수점 아래 연산결과가 미세하게 다른 이유?\n",
        "\n",
        "> 부동소수점 연산의 누적 오차 때문 : floating-point accumulation error\n",
        "\n",
        "> 위에서도 가중합 결과의 소수점 아래 다섯째 자리부터 차이가 확인된다.\n",
        "\n",
        "이런 차이는 **부동소수점의 유한 정밀도(IEEE 754 표준)**에서 비롯된 것으로, 일반적인 머신러닝이나 데이터 분석에서는 무시 가능한 수준이라고 한다..."
      ]
    },
    {
      "cell_type": "code",
      "execution_count": 39,
      "metadata": {},
      "outputs": [
        {
          "data": {
            "text/plain": [
              "True"
            ]
          },
          "execution_count": 39,
          "metadata": {},
          "output_type": "execute_result"
        }
      ],
      "source": [
        "np.allclose(result_01, result_02) # True > 오차 허용 범위 내에서 동일하다는 의미"
      ]
    },
    {
      "cell_type": "markdown",
      "metadata": {},
      "source": [
        "`np.allclose(array1, array2)`: 두 배열이 거의 같은 값인지(수치적으로 거의 같은지를) 판단할 때 사용하는 NumPy 함수"
      ]
    },
    {
      "cell_type": "markdown",
      "metadata": {},
      "source": [
        "- **결론**\n",
        "\n",
        "차이는 계산 순서 차이로 인한 부동소수점 정밀도의 한계에서 야기된 것으로,\n",
        "\n",
        "둘 다 수학적으로 같은 연산을 수행하고 있다.\n",
        "\n",
        "하지만 연산 속도와 효율성 측면에서 벡터화된 계산이 명확한 이점을 지닌다 !"
      ]
    }
  ],
  "metadata": {
    "colab": {
      "provenance": []
    },
    "kernelspec": {
      "display_name": "dataton",
      "language": "python",
      "name": "python3"
    },
    "language_info": {
      "codemirror_mode": {
        "name": "ipython",
        "version": 3
      },
      "file_extension": ".py",
      "mimetype": "text/x-python",
      "name": "python",
      "nbconvert_exporter": "python",
      "pygments_lexer": "ipython3",
      "version": "3.11.11"
    }
  },
  "nbformat": 4,
  "nbformat_minor": 0
}
