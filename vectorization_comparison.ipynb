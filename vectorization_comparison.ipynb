{
  "cells": [
    {
      "cell_type": "markdown",
      "metadata": {
        "id": "O86tnmAw6aS3"
      },
      "source": [
        "I'd like to compare the efficiency of vectorization implementation in practice.\n",
        "\n",
        "*(inspired by following slides...)*"
      ]
    },
    {
      "cell_type": "markdown",
      "metadata": {},
      "source": [
        "<img src=\"https://ifh.cc/g/tr2fyq.jpg\">"
      ]
    },
    {
      "cell_type": "markdown",
      "metadata": {
        "id": "VxF8Lr0hG9Up"
      },
      "source": [
        "0. weight 및 input은 numpy library의 난수 생성 모듈을 활용함: https://numpy.org/doc/2.1/reference/random/generated/numpy.random.rand.html"
      ]
    },
    {
      "cell_type": "code",
      "execution_count": 1,
      "metadata": {
        "id": "xl495Pg-GYWG"
      },
      "outputs": [],
      "source": [
        "import numpy as np"
      ]
    },
    {
      "cell_type": "code",
      "execution_count": 3,
      "metadata": {
        "colab": {
          "base_uri": "https://localhost:8080/"
        },
        "id": "zKECTA5OGtCJ",
        "outputId": "9ca802aa-18e9-4b30-8b5e-cd781695c2b6"
      },
      "outputs": [
        {
          "data": {
            "text/plain": [
              "[0.2659644009493185,\n",
              " 0.28592990602353674,\n",
              " 0.45852195411908314,\n",
              " 0.12322277485256183]"
            ]
          },
          "execution_count": 3,
          "metadata": {},
          "output_type": "execute_result"
        }
      ],
      "source": [
        "weight = [np.random.rand() for _ in range(4)]\n",
        "weight"
      ]
    },
    {
      "cell_type": "code",
      "execution_count": 4,
      "metadata": {
        "colab": {
          "base_uri": "https://localhost:8080/"
        },
        "id": "o2CQvaZGHJ6Y",
        "outputId": "124f3d8e-9f1a-465f-dff5-c18439f13206"
      },
      "outputs": [
        {
          "data": {
            "text/plain": [
              "[0.24469178373827627,\n",
              " 0.8938710781417305,\n",
              " 0.6767339310464625,\n",
              " 0.10122556721909737]"
            ]
          },
          "execution_count": 4,
          "metadata": {},
          "output_type": "execute_result"
        }
      ],
      "source": [
        "input  = [np.random.rand() for _ in range(4)]\n",
        "input"
      ]
    },
    {
      "cell_type": "markdown",
      "metadata": {
        "id": "Ysu58D_e6rzt"
      },
      "source": [
        "`np.random.rand()`"
      ]
    },
    {
      "cell_type": "markdown",
      "metadata": {
        "id": "nnN_1Ty4HYH4"
      },
      "source": [
        "1. totally manual code."
      ]
    },
    {
      "cell_type": "code",
      "execution_count": 10,
      "metadata": {
        "colab": {
          "base_uri": "https://localhost:8080/"
        },
        "id": "IRn5vA3HHRSe",
        "outputId": "c982666e-af1f-4811-c178-fef8f2fcae31"
      },
      "outputs": [
        {
          "data": {
            "text/plain": [
              "0.6434344368102679"
            ]
          },
          "execution_count": 10,
          "metadata": {},
          "output_type": "execute_result"
        }
      ],
      "source": [
        "result_1 = weight[0] * input[0] + weight[1] * input[1] + weight[2] * input[2] + weight[3] * input[3]\n",
        "result_1"
      ]
    },
    {
      "cell_type": "markdown",
      "metadata": {
        "id": "TLBDMGlKH12_"
      },
      "source": [
        "2. using for-loop"
      ]
    },
    {
      "cell_type": "code",
      "execution_count": 13,
      "metadata": {
        "colab": {
          "base_uri": "https://localhost:8080/"
        },
        "id": "1uzxHeVgH1cT",
        "outputId": "abcdb239-c164-42cb-8bdf-abb016ff0cf6"
      },
      "outputs": [
        {
          "data": {
            "text/plain": [
              "0.6434344368102679"
            ]
          },
          "execution_count": 13,
          "metadata": {},
          "output_type": "execute_result"
        }
      ],
      "source": [
        "result_2 = 0\n",
        "\n",
        "for i in range(len(weight)):\n",
        "  result_2 += weight[i] * input[i]\n",
        "\n",
        "result_2"
      ]
    },
    {
      "cell_type": "markdown",
      "metadata": {
        "id": "vCltFvc9INe9"
      },
      "source": [
        "3. using vector"
      ]
    },
    {
      "cell_type": "code",
      "execution_count": 14,
      "metadata": {
        "colab": {
          "base_uri": "https://localhost:8080/"
        },
        "id": "R6d7G3ttIJiX",
        "outputId": "b7eba02a-4a9b-4106-a17d-de4b78a5a7b4"
      },
      "outputs": [
        {
          "data": {
            "text/plain": [
              "np.float64(0.6434344368102679)"
            ]
          },
          "execution_count": 14,
          "metadata": {},
          "output_type": "execute_result"
        }
      ],
      "source": [
        "result_3 = np.matmul(weight, input)\n",
        "result_3"
      ]
    },
    {
      "cell_type": "markdown",
      "metadata": {
        "id": "eZzsQp8f4rUQ"
      },
      "source": [
        "- weighted-sum 결과 비교"
      ]
    },
    {
      "cell_type": "code",
      "execution_count": 15,
      "metadata": {
        "colab": {
          "base_uri": "https://localhost:8080/"
        },
        "id": "STvqGBsQ1fra",
        "outputId": "06e75471-28ef-41d3-856d-bfa2b4a5904b"
      },
      "outputs": [
        {
          "data": {
            "text/plain": [
              "True"
            ]
          },
          "execution_count": 15,
          "metadata": {},
          "output_type": "execute_result"
        }
      ],
      "source": [
        "result_1 == result_2  # <class 'bool'>"
      ]
    },
    {
      "cell_type": "code",
      "execution_count": 16,
      "metadata": {
        "colab": {
          "base_uri": "https://localhost:8080/"
        },
        "id": "Gi4XDuvW2GwR",
        "outputId": "5dc202a8-ab74-4c35-a7b5-7d21388d924b"
      },
      "outputs": [
        {
          "data": {
            "text/plain": [
              "np.True_"
            ]
          },
          "execution_count": 16,
          "metadata": {},
          "output_type": "execute_result"
        }
      ],
      "source": [
        "result_1 == result_3  # <class 'numpy.bool_'>"
      ]
    },
    {
      "cell_type": "code",
      "execution_count": 18,
      "metadata": {
        "colab": {
          "base_uri": "https://localhost:8080/"
        },
        "id": "LDD3cRBV2HVL",
        "outputId": "e3032884-c86c-4ef4-a3e9-0dc34162f0ec"
      },
      "outputs": [
        {
          "data": {
            "text/plain": [
              "np.True_"
            ]
          },
          "execution_count": 18,
          "metadata": {},
          "output_type": "execute_result"
        }
      ],
      "source": [
        "result_2 == result_3"
      ]
    },
    {
      "cell_type": "code",
      "execution_count": 19,
      "metadata": {
        "colab": {
          "base_uri": "https://localhost:8080/"
        },
        "id": "5v4wE_k92Io2",
        "outputId": "05cc35fb-2615-4ee9-b4a6-9b6c19e0ee90"
      },
      "outputs": [
        {
          "data": {
            "text/plain": [
              "numpy.float64"
            ]
          },
          "execution_count": 19,
          "metadata": {},
          "output_type": "execute_result"
        }
      ],
      "source": [
        "type(result_3)"
      ]
    },
    {
      "cell_type": "code",
      "execution_count": 20,
      "metadata": {
        "colab": {
          "base_uri": "https://localhost:8080/"
        },
        "id": "G0IR-b8c4eX8",
        "outputId": "c70fc2ae-6c38-4b08-ac46-828d75236022"
      },
      "outputs": [
        {
          "data": {
            "text/plain": [
              "float"
            ]
          },
          "execution_count": 20,
          "metadata": {},
          "output_type": "execute_result"
        }
      ],
      "source": [
        "type(result_2)"
      ]
    },
    {
      "cell_type": "markdown",
      "metadata": {
        "id": "yLoO3SD94z_y"
      },
      "source": [
        "- experiment : `n = 100,000,000`"
      ]
    },
    {
      "cell_type": "markdown",
      "metadata": {
        "id": "d3ihbUKA5Jg_"
      },
      "source": [
        "1. totally manual implementation"
      ]
    },
    {
      "cell_type": "code",
      "execution_count": 32,
      "metadata": {
        "colab": {
          "base_uri": "https://localhost:8080/"
        },
        "id": "ltmABmNm4fWC",
        "outputId": "aaf6711a-2b2a-44bd-9efc-d35380b8d07a"
      },
      "outputs": [
        {
          "data": {
            "text/plain": [
              "100000000"
            ]
          },
          "execution_count": 32,
          "metadata": {},
          "output_type": "execute_result"
        }
      ],
      "source": [
        "n = 100000000 # 100 M\n",
        "# w = [np.random.rand() for _ in range(n)]\n",
        "# x = [np.random.rand() for _ in range(n)]\n",
        "w = np.random.rand(n)\n",
        "x = np.random.rand(n)\n",
        "\n",
        "len(w)"
      ]
    },
    {
      "cell_type": "code",
      "execution_count": 30,
      "metadata": {
        "colab": {
          "base_uri": "https://localhost:8080/"
        },
        "id": "orC_DuKH5wXe",
        "outputId": "96ddcc2e-1734-45f0-adbf-589f6d135dec"
      },
      "outputs": [
        {
          "data": {
            "text/plain": [
              "np.float64(25003217.113946553)"
            ]
          },
          "execution_count": 30,
          "metadata": {},
          "output_type": "execute_result"
        }
      ],
      "source": [
        "result_01 = 0\n",
        "\n",
        "for i in range(len(w)):\n",
        "  result_01 += w[i] * x[i]\n",
        "\n",
        "result_01"
      ]
    },
    {
      "cell_type": "code",
      "execution_count": 31,
      "metadata": {
        "colab": {
          "base_uri": "https://localhost:8080/"
        },
        "id": "86JjhCIo5j7n",
        "outputId": "16999de5-b164-4e04-d2c1-37308c72b849"
      },
      "outputs": [
        {
          "data": {
            "text/plain": [
              "np.float64(25003217.113939464)"
            ]
          },
          "execution_count": 31,
          "metadata": {},
          "output_type": "execute_result"
        }
      ],
      "source": [
        "result_02 = np.matmul(w, x)\n",
        "\n",
        "result_02"
      ]
    },
    {
      "cell_type": "markdown",
      "metadata": {
        "id": "2E7nR0D17bm-"
      },
      "source": [
        "- 결과 비교!!\n",
        "\n",
        "\n",
        "    *   난수 생성에 6초\n",
        "    *   순차적 연산에 50초\n",
        "    *   병렬적 연산에 0.n초 남짓 소요됨을 확인 !!\n",
        "\n"
      ]
    },
    {
      "cell_type": "code",
      "execution_count": null,
      "metadata": {
        "id": "cSPyWxbU5zOA"
      },
      "outputs": [],
      "source": []
    }
  ],
  "metadata": {
    "colab": {
      "provenance": []
    },
    "kernelspec": {
      "display_name": "Python 3",
      "name": "python3"
    },
    "language_info": {
      "name": "python"
    }
  },
  "nbformat": 4,
  "nbformat_minor": 0
}
