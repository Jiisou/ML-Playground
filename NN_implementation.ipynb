{
  "nbformat": 4,
  "nbformat_minor": 0,
  "metadata": {
    "colab": {
      "provenance": []
    },
    "kernelspec": {
      "name": "python3",
      "display_name": "Python 3"
    },
    "language_info": {
      "name": "python"
    }
  },
  "cells": [
    {
      "cell_type": "markdown",
      "source": [
        "## **기본 텐서플로우의 케라스 컴포넌트를 이용**"
      ],
      "metadata": {
        "id": "1k80aKAA2El-"
      }
    },
    {
      "cell_type": "code",
      "execution_count": 1,
      "metadata": {
        "colab": {
          "base_uri": "https://localhost:8080/"
        },
        "id": "T_W0La9bxsqB",
        "outputId": "596f251d-e03d-4cb0-c803-1a6ff3531070"
      },
      "outputs": [
        {
          "output_type": "stream",
          "name": "stdout",
          "text": [
            "tf.Tensor([[0.27265733 0.10661475 0.5188296 ]], shape=(1, 3), dtype=float32)\n"
          ]
        }
      ],
      "source": [
        "import tensorflow as tf\n",
        "from tensorflow import keras\n",
        "from tensorflow.keras.layers import Dense\n",
        "import numpy as np\n",
        "\n",
        "a_in = np.array([[1,2,3]])\n",
        "layer = Dense(units=3, activation='sigmoid')\n",
        "a_out = layer(a_in)\n",
        "print(a_out)"
      ]
    },
    {
      "cell_type": "code",
      "source": [
        "layer"
      ],
      "metadata": {
        "colab": {
          "base_uri": "https://localhost:8080/"
        },
        "id": "mt88fEXXyVYi",
        "outputId": "a876d324-f06a-45e7-9551-07992d8eb1ad"
      },
      "execution_count": 5,
      "outputs": [
        {
          "output_type": "execute_result",
          "data": {
            "text/plain": [
              "<Dense name=dense, built=True>"
            ]
          },
          "metadata": {},
          "execution_count": 5
        }
      ]
    },
    {
      "cell_type": "markdown",
      "source": [
        ">Dense 레이어를 생성한 직후, 아직 학습이 진행되지 않았고 명시적으로 가중치와 바이어스를 초기화하지 않은 경우,  \n",
        ">텐서플로는 자동으로 무작위 초기화를 수행"
      ],
      "metadata": {
        "id": "yMY-UeWiz8MY"
      }
    },
    {
      "cell_type": "code",
      "source": [
        "layer.kernel.numpy() # (입력 차원, 출력 차원) shape의 가중치 행렬 (cf. 입력과 곱해지는 메인 가중치 행렬을 의미, Keras의 네이밍 컨벤션)"
      ],
      "metadata": {
        "colab": {
          "base_uri": "https://localhost:8080/"
        },
        "id": "DvmmwLkG0PlW",
        "outputId": "0e346155-ba2c-4bfc-d766-837cbf84bada"
      },
      "execution_count": 11,
      "outputs": [
        {
          "output_type": "execute_result",
          "data": {
            "text/plain": [
              "array([[-0.5258627 , -0.7971599 ,  0.05282426],\n",
              "       [ 0.6406555 , -0.10517836,  0.21609545],\n",
              "       [-0.57887673, -0.37275982, -0.13655376]], dtype=float32)"
            ]
          },
          "metadata": {},
          "execution_count": 11
        }
      ]
    },
    {
      "cell_type": "code",
      "source": [
        "layer.bias.numpy()  # (출력 차원,) shape의 바이어스 벡터"
      ],
      "metadata": {
        "colab": {
          "base_uri": "https://localhost:8080/"
        },
        "id": "qC567Q0v0W_3",
        "outputId": "087278b8-7626-4758-a1bc-555018b32d98"
      },
      "execution_count": 12,
      "outputs": [
        {
          "output_type": "execute_result",
          "data": {
            "text/plain": [
              "array([0., 0., 0.], dtype=float32)"
            ]
          },
          "metadata": {},
          "execution_count": 12
        }
      ]
    },
    {
      "cell_type": "code",
      "source": [
        "layer.weights       # [kernel, bias] 두 개의 텐서가 포함된 리스트"
      ],
      "metadata": {
        "colab": {
          "base_uri": "https://localhost:8080/"
        },
        "id": "o8ZYRU8h0fj8",
        "outputId": "5fd438e8-fbb6-450f-fbec-28f765e426be"
      },
      "execution_count": 14,
      "outputs": [
        {
          "output_type": "execute_result",
          "data": {
            "text/plain": [
              "[<Variable path=dense/kernel, shape=(3, 3), dtype=float32, value=[[-0.5258627  -0.7971599   0.05282426]\n",
              "  [ 0.6406555  -0.10517836  0.21609545]\n",
              "  [-0.57887673 -0.37275982 -0.13655376]]>,\n",
              " <Variable path=dense/bias, shape=(3,), dtype=float32, value=[0. 0. 0.]>]"
            ]
          },
          "metadata": {},
          "execution_count": 14
        }
      ]
    },
    {
      "cell_type": "markdown",
      "source": [
        "## **직접 Dense Layer를 코딩해보기**"
      ],
      "metadata": {
        "id": "0ctyojEU2RGU"
      }
    },
    {
      "cell_type": "markdown",
      "source": [
        "### **벡터화 후 병렬 연산 적용**"
      ],
      "metadata": {
        "id": "QiO4HOG-2TUd"
      }
    },
    {
      "cell_type": "code",
      "source": [
        "def dense(a_in, W, b, g):\n",
        "\n",
        "  z = np.dot(a_in, W) + b\n",
        "  A = g(z)\n",
        "  return A\n",
        "\n",
        "def sigmoid(logit):\n",
        "  # activation = 1/1+exp(-x)\n",
        "  activation = 1 / 1 + np.exp(-logit)\n",
        "  return activation\n",
        "\n",
        "W = np.array([[1,2,3],\n",
        "              [3,4,6],\n",
        "              [7,8,9]])\n",
        "b = [-1, -2, -5]\n",
        "dense(a_in, W, b, g=sigmoid)"
      ],
      "metadata": {
        "colab": {
          "base_uri": "https://localhost:8080/"
        },
        "id": "8l-IvU5FxwL-",
        "outputId": "68b4933e-9840-4f03-df22-ce175ac66aad"
      },
      "execution_count": 9,
      "outputs": [
        {
          "output_type": "execute_result",
          "data": {
            "text/plain": [
              "array([[1., 1., 1.]])"
            ]
          },
          "metadata": {},
          "execution_count": 9
        }
      ]
    },
    {
      "cell_type": "markdown",
      "source": [
        "### **순차 연산**\n",
        "\n",
        "직접 세팅한 값으로 W와 b가 할당되어 있는 상황이라고 가정. (원래는 랜덤 초기화)"
      ],
      "metadata": {
        "id": "MbPldhEM2Y2-"
      }
    },
    {
      "cell_type": "code",
      "source": [
        "def dense0(a_in, W, b, g):\n",
        "  units = W.shape[1]\n",
        "  a_out = np.zeros(units)\n",
        "  print(a_out)\n",
        "\n",
        "  for i in range(units):\n",
        "    print(f\"\\n현재 유닛은 {i}번째\")\n",
        "    # z = np.dot(a_in, W[i]) + b[i]\n",
        "    z = np.dot(a_in, W[:,i]) + b[i]\n",
        "    A = g(z)\n",
        "    print(A)\n",
        "    a_out[i] = A\n",
        "\n",
        "  return a_out\n",
        "\n",
        "dense0(a_in, W, b, g=sigmoid)"
      ],
      "metadata": {
        "colab": {
          "base_uri": "https://localhost:8080/"
        },
        "id": "jmhVsxw0yrxE",
        "outputId": "d119da64-39e9-4a88-b38a-42801333c11f"
      },
      "execution_count": 20,
      "outputs": [
        {
          "output_type": "stream",
          "name": "stdout",
          "text": [
            "[0. 0. 0.]\n",
            "\n",
            "현재 유닛은 0번째\n",
            "[1.]\n",
            "\n",
            "현재 유닛은 1번째\n",
            "[1.]\n",
            "\n",
            "현재 유닛은 2번째\n",
            "[1.]\n"
          ]
        },
        {
          "output_type": "stream",
          "name": "stderr",
          "text": [
            "<ipython-input-20-7ba017206774>:12: DeprecationWarning: Conversion of an array with ndim > 0 to a scalar is deprecated, and will error in future. Ensure you extract a single element from your array before performing this operation. (Deprecated NumPy 1.25.)\n",
            "  a_out[i] = A\n"
          ]
        },
        {
          "output_type": "execute_result",
          "data": {
            "text/plain": [
              "array([1., 1., 1.])"
            ]
          },
          "metadata": {},
          "execution_count": 20
        }
      ]
    },
    {
      "cell_type": "markdown",
      "source": [
        "#### *가중치 인덱싱(열) 간과*"
      ],
      "metadata": {
        "id": "8v3vtF_WpSt3"
      }
    },
    {
      "cell_type": "code",
      "source": [
        "def dense0(a_in, W, b, g):\n",
        "  units = W.shape[1]\n",
        "  a_out = np.zeros(units)\n",
        "  print(a_out)\n",
        "\n",
        "  for i in range(units):\n",
        "    print(f\"\\n현재 유닛은 {i+1}번째\")\n",
        "    z = np.dot(a_in, W[i]) + b[i] # 0번째 행 = 0번째 input이 모든 유닛으로 가는 weight\n",
        "    # z = np.dot(a_in, W[:,i]) + b[i]\n",
        "    A = g(z)\n",
        "    print(A)\n",
        "    a_out[i] = A\n",
        "\n",
        "  return a_out\n",
        "\n",
        "dense0(a_in, W, b, g=sigmoid)"
      ],
      "metadata": {
        "colab": {
          "base_uri": "https://localhost:8080/"
        },
        "id": "xfbp3fwR1yk0",
        "outputId": "3f7c6d11-3ad0-4920-90ce-29944b861459"
      },
      "execution_count": 22,
      "outputs": [
        {
          "output_type": "stream",
          "name": "stdout",
          "text": [
            "[0. 0. 0.]\n",
            "\n",
            "현재 유닛은 1번째\n",
            "[1.00000226]\n",
            "\n",
            "현재 유닛은 2번째\n",
            "[1.]\n",
            "\n",
            "현재 유닛은 3번째\n",
            "[1.]\n"
          ]
        },
        {
          "output_type": "stream",
          "name": "stderr",
          "text": [
            "<ipython-input-22-d48f8b48e384>:12: DeprecationWarning: Conversion of an array with ndim > 0 to a scalar is deprecated, and will error in future. Ensure you extract a single element from your array before performing this operation. (Deprecated NumPy 1.25.)\n",
            "  a_out[i] = A\n"
          ]
        },
        {
          "output_type": "execute_result",
          "data": {
            "text/plain": [
              "array([1.00000226, 1.        , 1.        ])"
            ]
          },
          "metadata": {},
          "execution_count": 22
        }
      ]
    },
    {
      "cell_type": "markdown",
      "source": [
        "### 🔍 왜 [1] vs [1.00000226]이 되었는가?\n",
        "\n",
        "*   잘못된 방향의 곱셈\n",
        "*   다만 파이썬의 브로드캐스팅 연산이 적용되어 numpy는 어떻게든 연산을 시도함.\n",
        "\n",
        "--->  문제가 없는 것으로 착각할 수 있지만 약간의 수치 오류 혹은 비정상 결과를 야기할 수 있음.\n",
        "\n"
      ],
      "metadata": {
        "id": "kAVNjnwKpro7"
      }
    },
    {
      "cell_type": "code",
      "source": [],
      "metadata": {
        "id": "iy7q2XIUqLJt"
      },
      "execution_count": null,
      "outputs": []
    }
  ]
}